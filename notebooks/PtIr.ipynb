{
 "cells": [
  {
   "cell_type": "code",
   "execution_count": 2,
   "id": "3ea01c70-7ab5-48f8-867a-958e44916ac9",
   "metadata": {
    "tags": []
   },
   "outputs": [
    {
     "data": {
      "text/html": [
       "<pre style=\"white-space:pre;overflow-x:auto;line-height:normal;font-family:Menlo,'DejaVu Sans Mono',consolas,'Courier New',monospace\"></pre>\n"
      ],
      "text/plain": []
     },
     "metadata": {},
     "output_type": "display_data"
    },
    {
     "data": {
      "text/html": [
       "<pre style=\"white-space:pre;overflow-x:auto;line-height:normal;font-family:Menlo,'DejaVu Sans Mono',consolas,'Courier New',monospace\"></pre>\n"
      ],
      "text/plain": []
     },
     "metadata": {},
     "output_type": "display_data"
    },
    {
     "data": {
      "application/vnd.jupyter.widget-view+json": {
       "model_id": "c996444d6f0549a8ad4f1506553e9a4b",
       "version_major": 2,
       "version_minor": 0
      },
      "text/plain": []
     },
     "metadata": {},
     "output_type": "display_data"
    }
   ],
   "source": [
    "import netCDF4\n",
    "from pyiron import Project\n",
    "import numpy as np\n",
    "import h5py\n",
    "import scipy\n",
    "%matplotlib inline\n",
    "import matplotlib.pyplot as plt\n",
    "from pyiron_base import load\n",
    "import newmodn as nm"
   ]
  },
  {
   "cell_type": "code",
   "execution_count": 3,
   "id": "71bc4bfa-8592-45d6-961d-b29a81c6ea91",
   "metadata": {
    "tags": []
   },
   "outputs": [],
   "source": [
    "pr = Project ('Platinum_Iridium')"
   ]
  },
  {
   "cell_type": "code",
   "execution_count": 4,
   "id": "bd16eb53-5f78-4f3a-9e09-80eb9547239c",
   "metadata": {
    "tags": []
   },
   "outputs": [],
   "source": [
    "working_directory=\"/u/skatnagallu/pyiron/projects/HEA_FIM/PtIrAu_FIM_contrast/Pt1Ir_210_relax_wf_4_0_VA_hdf5/Pt1Ir_210_relax_wf_4_0_VA\"\n",
    "dft= nm.sx_waves_reader(working_directory,working_directory+'/waves.sxb')\n",
    "potentials=nm.potential(working_directory)\n",
    "total_V,V1,cell= potentials.potential_cell()\n"
   ]
  },
  {
   "cell_type": "code",
   "execution_count": 5,
   "id": "0415f332-c126-4b38-8705-50ed56ab6344",
   "metadata": {
    "tags": []
   },
   "outputs": [
    {
     "data": {
      "text/plain": [
       "(60, 56, 220)"
      ]
     },
     "execution_count": 5,
     "metadata": {},
     "output_type": "execute_result"
    }
   ],
   "source": [
    "total_V.shape"
   ]
  },
  {
   "cell_type": "code",
   "execution_count": 7,
   "id": "7ae30d22-3b4e-48e4-a88b-dd430fcbc62b",
   "metadata": {},
   "outputs": [],
   "source": [
    " Simulator = {\n",
    "            'working_directory': '/u/skatnagallu/pyiron/projects/HEA_FIM/PtIrAu_FIM_contrast/Pt1Ir_210_relax_wf_4_0_VA_hdf5/Pt1Ir_210_relax_wf_4_0_VA',\n",
    "            'ik': 0,\n",
    "            'z_max': 40,\n",
    "            'izstart_min': 115,\n",
    "            'izend': 100,\n",
    "            'cutoff': 10,\n",
    "            'limit': 1e-10,\n",
    "            'E_fermi': 52.1539 ,\n",
    "            'E_max': 57.1913,\n",
    "            'ionization_energies': [10., 15., 21.5]\n",
    "    }"
   ]
  },
  {
   "cell_type": "code",
   "execution_count": 9,
   "id": "5d085e2e-c18b-49f5-a718-bf1200974a66",
   "metadata": {
    "tags": []
   },
   "outputs": [],
   "source": [
    "x_1D= np.linspace(0,cell[0,0],total_V.shape[0])\n",
    "dx=x_1D[1]-x_1D[0]\n",
    "y_1D= np.linspace(0,cell[1,1],total_V.shape[1])\n",
    "dy=y_1D[1]-y_1D[0]\n",
    "z_1D= np.linspace(0,cell[2,2],total_V.shape[2])\n",
    "dz=z_1D[1]-z_1D[0]\n",
    "ispin=0\n",
    "i=380\n",
    "ik=0\n",
    "z_max=40\n",
    "Nz_max= int(z_max/dz)\n",
    "waves=nm.extra_waves(total_V,dz,cell,Nz_max,dft,inputDict=Simulator)\n",
    "psi_extra,gk_1,gk_2 = waves.get_psi(i,ispin,ik)"
   ]
  },
  {
   "cell_type": "code",
   "execution_count": 10,
   "id": "283900ec-9e11-4a6e-be0a-57a4eef73995",
   "metadata": {
    "tags": []
   },
   "outputs": [
    {
     "data": {
      "text/plain": [
       "[<matplotlib.lines.Line2D at 0x150dfb5f9820>]"
      ]
     },
     "execution_count": 10,
     "metadata": {},
     "output_type": "execute_result"
    },
    {
     "data": {
      "image/png": "[encoded data removed]",
      "text/plain": [
       "<Figure size 640x480 with 1 Axes>"
      ]
     },
     "metadata": {},
     "output_type": "display_data"
    }
   ],
   "source": [
    "plt.plot(z_1D[Simulator['izend']:Nz_max-5],np.log10(np.abs(psi_extra[28,26,Simulator['izend']:Nz_max-5])))\n"
   ]
  },
  {
   "cell_type": "code",
   "execution_count": 11,
   "id": "2cf0ff3b-543d-4f69-8a3e-87fe5b82d8ba",
   "metadata": {
    "tags": []
   },
   "outputs": [],
   "source": [
    "fim=nm.FIM_simulations(dft,psi_extra,total_V,inputDict=Simulator)\n",
    "fim.sum_all_states(ik)"
   ]
  },
  {
   "cell_type": "code",
   "execution_count": 16,
   "id": "2a6263de-a8c9-4f37-a9f0-e0defccc5520",
   "metadata": {},
   "outputs": [],
   "source": [
    "all_totals = dict ()\n",
    "Nx,Ny=60,56\n",
    "for ik in range(25):\n",
    "        with h5py.File(f'/cmmc/u/sbhatt/pyiron/my_module/Platinum_Iridium/PtIr{ik}_hdf5/PtIr{ik}/partial_dos0.h5', 'r') as handle:\n",
    "            for varname in handle.keys ():\n",
    "                if 'IE=' in varname:\n",
    "                    IE = float(str(varname).replace('IE=',''))\n",
    "                    if IE not in all_totals.keys ():\n",
    "                        all_totals[IE] = np.zeros((Nx,Ny), dtype=np.float64)\n",
    "                    all_totals[IE] += np.asarray(handle[varname])"
   ]
  },
  {
   "cell_type": "code",
   "execution_count": 19,
   "id": "65955643-0cce-4ee6-98b6-880421da365a",
   "metadata": {
    "tags": []
   },
   "outputs": [
    {
     "data": {
      "text/plain": [
       "{10.0: array([[9.34355934e-15, 9.37450113e-15, 9.28117273e-15, ...,\n",
       "         8.54267333e-15, 8.90707156e-15, 9.18335253e-15],\n",
       "        [1.22130437e-14, 1.22045241e-14, 1.19561058e-14, ...,\n",
       "         1.08601404e-14, 1.15078219e-14, 1.19735525e-14],\n",
       "        [1.56887293e-14, 1.56353919e-14, 1.52173697e-14, ...,\n",
       "         1.37482779e-14, 1.47020694e-14, 1.53680746e-14],\n",
       "        ...,\n",
       "        [3.70931912e-15, 3.82394160e-15, 4.11811918e-15, ...,\n",
       "         4.45609678e-15, 4.01784303e-15, 3.77120676e-15],\n",
       "        [5.16805756e-15, 5.25828588e-15, 5.42871336e-15, ...,\n",
       "         5.39351699e-15, 5.22697429e-15, 5.15512585e-15],\n",
       "        [7.02112613e-15, 7.08435211e-15, 7.12846848e-15, ...,\n",
       "         6.73906222e-15, 6.83647516e-15, 6.93580027e-15]]),\n",
       " 15.0: array([[6.83217106e-17, 6.80160346e-17, 6.70324425e-17, ...,\n",
       "         6.52702807e-17, 6.68933149e-17, 6.79362250e-17],\n",
       "        [8.52067679e-17, 8.47060726e-17, 8.28945394e-17, ...,\n",
       "         7.89880866e-17, 8.22553625e-17, 8.43715889e-17],\n",
       "        [1.04689548e-16, 1.03979292e-16, 1.01304160e-16, ...,\n",
       "         9.52216480e-17, 1.00179870e-16, 1.03397490e-16],\n",
       "        ...,\n",
       "        [3.20781756e-17, 3.22732633e-17, 3.36208100e-17, ...,\n",
       "         3.83660397e-17, 3.51724152e-17, 3.30531470e-17],\n",
       "        [4.19412002e-17, 4.19826396e-17, 4.25718593e-17, ...,\n",
       "         4.51106920e-17, 4.35193961e-17, 4.24555452e-17],\n",
       "        [5.39526836e-17, 5.38274999e-17, 5.36418423e-17, ...,\n",
       "         5.40190877e-17, 5.40283715e-17, 5.40151610e-17]]),\n",
       " 21.5: array([[3.05881459e-20, 3.02454782e-20, 2.96679853e-20, ...,\n",
       "         3.01421786e-20, 3.05291579e-20, 3.06825408e-20],\n",
       "        [3.65431344e-20, 3.61401233e-20, 3.52803505e-20, ...,\n",
       "         3.49655471e-20, 3.59357543e-20, 3.64723680e-20],\n",
       "        [4.31567763e-20, 4.26931920e-20, 4.15478130e-20, ...,\n",
       "         4.04308251e-20, 4.19924951e-20, 4.29180259e-20],\n",
       "        ...,\n",
       "        [1.67968648e-20, 1.66287560e-20, 1.68698306e-20, ...,\n",
       "         1.96392041e-20, 1.83315454e-20, 1.73713975e-20],\n",
       "        [2.07278290e-20, 2.05030294e-20, 2.04766484e-20, ...,\n",
       "         2.24924114e-20, 2.17399493e-20, 2.11447558e-20],\n",
       "        [2.53169889e-20, 2.50338761e-20, 2.47344098e-20, ...,\n",
       "         2.59851657e-20, 2.57977993e-20, 2.55738844e-20]])}"
      ]
     },
     "execution_count": 19,
     "metadata": {},
     "output_type": "execute_result"
    }
   ],
   "source": [
    "all_totals"
   ]
  },
  {
   "cell_type": "code",
   "execution_count": 17,
   "id": "b91f75c9-b520-4948-aa7c-377e4e8363bb",
   "metadata": {
    "tags": []
   },
   "outputs": [],
   "source": [
    "xp =np.linspace(0,27,270)\n",
    "yp= np.linspace(0,18,180)\n",
    "FIM_image_ex_all=np.zeros([xp.shape[0],yp.shape[0]],dtype=np.complex128)\n",
    "\n",
    "# interpolation of DFT_total3\n",
    "prho_rec_ex_all= np.fft.ifft2(all_totals[21.5])\n",
    "for ix in range(xp.shape[0]):\n",
    "    for iy in range(yp.shape[0]):\n",
    "        x=xp[ix]\n",
    "        y=yp[iy]\n",
    "        phase_1=np.exp(-1j*(gk_1[:,0]*x+gk_1[:,1]*y))\n",
    "        phase_2= np.exp(-1j*(gk_2[:,0]*x+gk_2[:,1]*y))\n",
    "        phase=np.outer(phase_1,phase_2)\n",
    "        FIM_image_ex_all[ix,iy] =np.sum(prho_rec_ex_all.flatten()*phase.flatten())"
   ]
  },
  {
   "cell_type": "code",
   "execution_count": 18,
   "id": "0b930b7b-6819-4063-90e1-59c32b4df8ea",
   "metadata": {
    "tags": []
   },
   "outputs": [
    {
     "data": {
      "text/plain": [
       "array([[3.05881459e-20+1.20370622e-35j, 3.04883700e-20-6.01853108e-36j,\n",
       "        3.03540524e-20+0.00000000e+00j, ...,\n",
       "        2.12415349e-20-1.50463277e-36j, 2.09776850e-20+0.00000000e+00j,\n",
       "        2.07416858e-20-6.01853108e-36j],\n",
       "       [3.26453159e-20+6.01853108e-36j, 3.25468998e-20-6.01853108e-36j,\n",
       "        3.24025987e-20+0.00000000e+00j, ...,\n",
       "        2.06433488e-20-3.00926554e-36j, 2.02752342e-20-7.52316385e-36j,\n",
       "        1.99423343e-20-7.52316385e-36j],\n",
       "       [3.47899345e-20+0.00000000e+00j, 3.46928999e-20+0.00000000e+00j,\n",
       "        3.45385756e-20-6.01853108e-36j, ...,\n",
       "        2.01159227e-20-4.51389831e-36j, 1.96425890e-20-7.52316385e-36j,\n",
       "        1.92118318e-20-6.01853108e-36j],\n",
       "       ...,\n",
       "       [8.12456228e-21-6.01853108e-36j, 8.16791187e-21-3.00926554e-36j,\n",
       "        8.35348030e-21+0.00000000e+00j, ...,\n",
       "        4.17043812e-20+3.00926554e-36j, 4.28965328e-20+9.02779661e-36j,\n",
       "        4.39819334e-20+3.00926554e-36j],\n",
       "       [7.45626472e-21-3.00926554e-36j, 7.49090369e-21-6.01853108e-36j,\n",
       "        7.67686061e-21-6.01853108e-36j, ...,\n",
       "        4.30720727e-20+7.52316385e-36j, 4.43504499e-20+6.01853108e-36j,\n",
       "        4.55163363e-20+3.00926554e-36j],\n",
       "       [6.84107479e-21-6.01853108e-36j, 6.86700084e-21-9.02779661e-36j,\n",
       "        7.05320244e-21+0.00000000e+00j, ...,\n",
       "        4.44574007e-20-1.50463277e-36j, 4.58204748e-20+9.02779661e-36j,\n",
       "        4.70653954e-20+6.01853108e-36j]])"
      ]
     },
     "execution_count": 18,
     "metadata": {},
     "output_type": "execute_result"
    }
   ],
   "source": [
    "FIM_image_ex_all"
   ]
  },
  {
   "cell_type": "code",
   "execution_count": 25,
   "id": "d766547d-c9e3-4ddf-a602-ce14327fe985",
   "metadata": {
    "tags": []
   },
   "outputs": [
    {
     "data": {
      "text/plain": [
       "[]"
      ]
     },
     "execution_count": 25,
     "metadata": {},
     "output_type": "execute_result"
    }
   ],
   "source": [
    "toplayer=[(x /1.89,y/ 1.89) for x,y,z in struct.positions  if z>14]\n"
   ]
  },
  {
   "cell_type": "code",
   "execution_count": 26,
   "id": "b293a5da-dd4f-4682-8bd7-793c9b4f2b10",
   "metadata": {
    "tags": []
   },
   "outputs": [
    {
     "data": {
      "text/plain": [
       "[]"
      ]
     },
     "execution_count": 26,
     "metadata": {},
     "output_type": "execute_result"
    }
   ],
   "source": [
    "toplayer"
   ]
  },
  {
   "cell_type": "code",
   "execution_count": 17,
   "id": "2aee52c6-e3ac-4aba-ac7d-5c832314971a",
   "metadata": {
    "tags": []
   },
   "outputs": [],
   "source": [
    "BOHR_TO_Angstrom= scipy.constants.physical_constants[\"Bohr radius\"][0]*1e+10\n"
   ]
  },
  {
   "cell_type": "code",
   "execution_count": 27,
   "id": "547bfd10-7472-489a-b558-3eeea2b6e087",
   "metadata": {
    "tags": []
   },
   "outputs": [
    {
     "name": "stdout",
     "output_type": "stream",
     "text": [
      "1.2309604998655733e-19\n",
      "1e-19\n",
      "1.3e-19\n",
      "[]\n"
     ]
    },
    {
     "data": {
      "image/png": "[encoded data removed]",
      "text/plain": [
       "<Figure size 650x400 with 2 Axes>"
      ]
     },
     "metadata": {},
     "output_type": "display_data"
    }
   ],
   "source": [
    "vmax=np.max(FIM_image_ex_all.real)\n",
    "print(vmax)\n",
    "vmax_lev=np.power(10., np.trunc(np.log10(vmax))-1)\n",
    "print(vmax_lev)\n",
    "vmax_lev=(np.trunc(vmax / vmax_lev * 10.)+1)*0.1 * vmax_lev\n",
    "print(vmax_lev)\n",
    "plt.figure(figsize=[6.5,4])\n",
    "plt.contourf(xp/1.89,yp/1.89,FIM_image_ex_all.real.T,vmin=0,vmax=vmax_lev,levels=np.linspace(0,vmax_lev,41))\n",
    "plt.rcParams['font.size'] = '16'\n",
    "plt.rcParams['font.family'] ='serif'\n",
    "plt.xlabel('x ($\\AA$)')\n",
    "#plt.xticks([0,5,10,15,20,25])\n",
    "plt.ylabel('y ($\\AA$)')\n",
    "plt.colorbar()\n",
    "#toplayer=[(x /1.89,y/ 1.89) for x,y,z in struct.positions  if z>14]\n",
    "#for (x,y) in toplayer[0:2]:\n",
    "  #  plt.text(x/0.529,y/0.529, 'Pt', style='normal',fontsize=14,color='white')\n",
    "#plt.text(toplayer[2][0]*1.89,toplayer[2][1]*1.89, 'Ir', style='normal',fontsize=14,color='black')\n",
    "#plt.figtext(0.12, 0.8, 'EXTRA (I=21.5 eV)',color='white')\n",
    "print (toplayer)\n",
    "plt.savefig(\"PtIr_EXTRA.png\",bbox_inches=\"tight\", dpi=400)"
   ]
  },
  {
   "cell_type": "code",
   "execution_count": 12,
   "id": "dc64bc43-01da-4ad8-ae4f-16a123491d33",
   "metadata": {
    "tags": []
   },
   "outputs": [],
   "source": [
    "from pyiron_atomistics.sphinx.structure import read_atoms\n",
    "struct=read_atoms(\"/u/skatnagallu/pyiron/projects/HEA_FIM/PtIrAu_FIM_contrast/Pt1Ir_210_relax_wf_4_0_VA_hdf5/Pt1Ir_210_relax_wf_4_0_VA/relaxedStr.sx\") "
   ]
  },
  {
   "cell_type": "code",
   "execution_count": 13,
   "id": "f9d507b7-9237-4dd7-915a-6460092909ea",
   "metadata": {
    "tags": []
   },
   "outputs": [
    {
     "data": {
      "text/plain": [
       "Ir: [ 2.26398431e+00 -4.97426578e-07  1.32298984e+01]\n",
       "Pt: [6.66627766 0.         0.        ]\n",
       "Pt: [0.44441851 0.         0.88883702]\n",
       "Pt: [7.55511468 1.9875     1.77767404]\n",
       "Pt: [1.33325553 1.9875     2.66651106]\n",
       "Pt: [8.4439517  0.         3.55534809]\n",
       "Pt: [6.66627766 1.9875     4.44418511]\n",
       "Pt: [0.44441851 1.9875     5.33302213]\n",
       "Pt: [7.55511468 0.         6.22185914]\n",
       "Pt: [ 1.32840514e+00 -1.16418986e-07  7.15313124e+00]\n",
       "Pt: [8.44120569 1.99157688 8.0588076 ]\n",
       "Pt: [ 6.69324097e+00 -1.53461391e-07  8.95124256e+00]\n",
       "Pt: [ 4.84369755e-01 -3.81007592e-07  9.85049751e+00]\n",
       "Pt: [ 7.5700578   1.98258077 10.74304855]\n",
       "Pt: [ 1.29175126  2.00411883 11.78605218]\n",
       "Pt: [ 8.51051278e+00 -6.98513918e-07  1.25966613e+01]\n",
       "Pt: [ 6.75082453  1.97963886 13.3347332 ]\n",
       "Pt: [2.22209255 1.9875     0.        ]\n",
       "Pt: [4.88860362 1.9875     0.88883702]\n",
       "Pt: [3.11092958 0.         1.77767404]\n",
       "Pt: [5.77744063 0.         2.66651106]\n",
       "Pt: [3.9997666  1.9875     3.55534809]\n",
       "Pt: [2.22209255 0.         4.44418511]\n",
       "Pt: [4.88860362 0.         5.33302213]\n",
       "Pt: [3.11092958 1.9875     6.22185914]\n",
       "Pt: [5.76653947 1.98628056 7.15642859]\n",
       "Pt: [4.00246265e+00 1.42877847e-07 8.07987766e+00]\n",
       "Pt: [2.24675363 1.99032734 8.94903794]\n",
       "Pt: [4.93947063 1.9949212  9.87542556]\n",
       "Pt: [ 3.10354247e+00 -7.35556323e-07  1.07307952e+01]\n",
       "Pt: [ 5.76561928e+00 -6.19137337e-07  1.17602736e+01]\n",
       "Pt: [ 3.99598334  1.92638796 12.58060516]\n",
       "Pt: [6.66627766 3.975      0.        ]\n",
       "Pt: [0.44441851 3.975      0.88883702]\n",
       "Pt: [7.55511468 5.9625     1.77767404]\n",
       "Pt: [1.33325553 5.9625     2.66651106]\n",
       "Pt: [8.4439517  3.975      3.55534809]\n",
       "Pt: [6.66627766 5.9625     4.44418511]\n",
       "Pt: [0.44441851 5.9625     5.33302213]\n",
       "Pt: [7.55511468 3.975      6.22185914]\n",
       "Pt: [1.32798831 3.97499989 7.15469662]\n",
       "Pt: [8.44120572 5.95842308 8.05880771]\n",
       "Pt: [6.69176717 3.9749998  8.95143039]\n",
       "Pt: [0.5016151  3.9749996  9.86467781]\n",
       "Pt: [ 7.57005757  5.96741857 10.7430482 ]\n",
       "Pt: [ 1.29175131  5.94588012 11.78605237]\n",
       "Pt: [ 8.44387414  3.97499948 12.53662202]\n",
       "Pt: [ 6.75082457  5.97035999 13.33473301]\n",
       "Pt: [2.22209255 5.9625     0.        ]\n",
       "Pt: [4.88860362 5.9625     0.88883702]\n",
       "Pt: [3.11092958 3.975      1.77767404]\n",
       "Pt: [5.77744063 3.975      2.66651106]\n",
       "Pt: [3.9997666  5.9625     3.55534809]\n",
       "Pt: [2.22209255 3.975      4.44418511]\n",
       "Pt: [4.88860362 3.975      5.33302213]\n",
       "Pt: [3.11092958 5.9625     6.22185914]\n",
       "Pt: [5.76653944 5.96371925 7.15642848]\n",
       "Pt: [3.99841154 3.97499964 8.07282131]\n",
       "Pt: [2.24675378 5.95967195 8.94903776]\n",
       "Pt: [4.93947068 5.95507799 9.87542497]\n",
       "Pt: [ 3.122234    3.97499962 10.76872388]\n",
       "Pt: [ 5.71198801  3.97499961 11.77424914]\n",
       "Pt: [ 3.9959833   6.02361118 12.58060496]\n",
       "Pt: [ 2.36266078  3.9749991  13.36872524]\n",
       "pbc: [False False False]\n",
       "cell: \n",
       "Cell([8.888370209374278, 7.950000004881726, 33.33255531537621])"
      ]
     },
     "execution_count": 13,
     "metadata": {},
     "output_type": "execute_result"
    }
   ],
   "source": [
    "struct"
   ]
  },
  {
   "cell_type": "code",
   "execution_count": 15,
   "id": "b03d5588-290a-4a44-9da7-f46b0230b5d1",
   "metadata": {
    "tags": []
   },
   "outputs": [
    {
     "name": "stdout",
     "output_type": "stream",
     "text": [
      "[ 2.36266078  3.9749991  13.36872524] [15.94889091 27.99999363 88.23564602]\n"
     ]
    }
   ],
   "source": [
    "Nz=220\n",
    "relcoords=np.matmul(np.linalg.inv(np.asarray(struct.cell)).T,struct.positions[-1])\n",
    "print (struct.cell[0] * relcoords[0] + struct.cell[1]*relcoords[1] +struct.cell[2]*relcoords[2], relcoords * [Nx,Ny,Nz])"
   ]
  },
  {
   "cell_type": "code",
   "execution_count": 14,
   "id": "aea6c9f4-afd6-4175-880c-1d0894a0d2db",
   "metadata": {},
   "outputs": [
    {
     "data": {
      "application/vnd.jupyter.widget-view+json": {
       "model_id": "6ba612a344a74fe69cd5edcb47cbd8de",
       "version_major": 2,
       "version_minor": 0
      },
      "text/plain": [
       "NGLWidget()"
      ]
     },
     "metadata": {},
     "output_type": "display_data"
    }
   ],
   "source": [
    "struct.plot3d()"
   ]
  },
  {
   "cell_type": "code",
   "execution_count": null,
   "id": "f18a32b1-f3d2-4992-8eaa-b747179785ea",
   "metadata": {},
   "outputs": [],
   "source": []
  }
 ],
 "metadata": {
  "kernelspec": {
   "display_name": "Python 3 (ipykernel)",
   "language": "python",
   "name": "python3"
  },
  "language_info": {
   "codemirror_mode": {
    "name": "ipython",
    "version": 3
   },
   "file_extension": ".py",
   "mimetype": "text/x-python",
   "name": "python",
   "nbconvert_exporter": "python",
   "pygments_lexer": "ipython3",
   "version": "3.8.15"
  }
 },
 "nbformat": 4,
 "nbformat_minor": 5
}
