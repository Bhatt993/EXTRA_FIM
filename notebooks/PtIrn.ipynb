{
 "cells": [
  {
   "cell_type": "code",
   "execution_count": 1,
   "id": "3ea01c70-7ab5-48f8-867a-958e44916ac9",
   "metadata": {
    "tags": []
   },
   "outputs": [
    {
     "data": {
      "text/html": [
       "<pre style=\"white-space:pre;overflow-x:auto;line-height:normal;font-family:Menlo,'DejaVu Sans Mono',consolas,'Courier New',monospace\"></pre>\n"
      ],
      "text/plain": []
     },
     "metadata": {},
     "output_type": "display_data"
    },
    {
     "data": {
      "text/html": [
       "<pre style=\"white-space:pre;overflow-x:auto;line-height:normal;font-family:Menlo,'DejaVu Sans Mono',consolas,'Courier New',monospace\"></pre>\n"
      ],
      "text/plain": []
     },
     "metadata": {},
     "output_type": "display_data"
    },
    {
     "data": {
      "application/vnd.jupyter.widget-view+json": {
       "model_id": "00ec559c8d47474aa5b8e9bc6c97d582",
       "version_major": 2,
       "version_minor": 0
      },
      "text/plain": []
     },
     "metadata": {},
     "output_type": "display_data"
    }
   ],
   "source": [
    "import netCDF4\n",
    "from pyiron import Project\n",
    "import numpy as np\n",
    "import h5py\n",
    "import scipy\n",
    "%matplotlib inline\n",
    "import matplotlib.pyplot as plt\n",
    "from pyiron_base import load\n"
   ]
  },
  {
   "cell_type": "code",
   "execution_count": 2,
   "id": "565af75b-8c38-4b16-a202-e4cabffc5b8a",
   "metadata": {},
   "outputs": [
    {
     "name": "stderr",
     "output_type": "stream",
     "text": [
      "/cmmc/u/sbhatt/pyiron/my_module/EXTRA_FIM/EXTRA_FIM/main.py:309: NumbaDeprecationWarning: \u001b[1mThe 'nopython' keyword argument was not supplied to the 'numba.jit' decorator. The implicit default value for this argument is currently False, but it will be changed to True in Numba 0.59.0. See https://numba.readthedocs.io/en/stable/reference/deprecation.html#deprecation-of-object-mode-fall-back-behaviour-when-using-jit for details.\u001b[0m\n",
      "  def _fillin(res, psire, psiim, fft_idx):\n"
     ]
    }
   ],
   "source": [
    "import sys\n",
    "sys.path.append ('/cmmc/u/sbhatt/pyiron/my_module/EXTRA_FIM')\n",
    "import EXTRA_FIM.main as nm\n"
   ]
  },
  {
   "cell_type": "code",
   "execution_count": 3,
   "id": "71bc4bfa-8592-45d6-961d-b29a81c6ea91",
   "metadata": {
    "tags": []
   },
   "outputs": [],
   "source": [
    "pr = Project ('Platinum_Iridium')"
   ]
  },
  {
   "cell_type": "code",
   "execution_count": 4,
   "id": "bd16eb53-5f78-4f3a-9e09-80eb9547239c",
   "metadata": {
    "tags": []
   },
   "outputs": [],
   "source": [
    "working_directory=\"/u/skatnagallu/pyiron/projects/HEA_FIM/PtIrAu_FIM_contrast/Pt1Ir_210_relax_wf_4_0_VA_hdf5/Pt1Ir_210_relax_wf_4_0_VA\"\n",
    "dft= nm.sx_waves_reader(working_directory,working_directory+'/waves.sxb')\n",
    "potentials=nm.potential(working_directory)\n",
    "total_V,V1,cell= potentials.potential_cell()\n"
   ]
  },
  {
   "cell_type": "code",
   "execution_count": 5,
   "id": "0415f332-c126-4b38-8705-50ed56ab6344",
   "metadata": {
    "tags": []
   },
   "outputs": [
    {
     "data": {
      "text/plain": [
       "(60, 56, 220)"
      ]
     },
     "execution_count": 5,
     "metadata": {},
     "output_type": "execute_result"
    }
   ],
   "source": [
    "total_V.shape"
   ]
  },
  {
   "cell_type": "code",
   "execution_count": 6,
   "id": "7ae30d22-3b4e-48e4-a88b-dd430fcbc62b",
   "metadata": {},
   "outputs": [],
   "source": [
    " Simulator = {\n",
    "            'working_directory': '/u/skatnagallu/pyiron/projects/HEA_FIM/PtIrAu_FIM_contrast/Pt1Ir_210_relax_wf_4_0_VA_hdf5/Pt1Ir_210_relax_wf_4_0_VA',\n",
    "            'ik': 0,\n",
    "            'z_max': 40,\n",
    "            'izstart_min': 115,\n",
    "            'izend': 100,\n",
    "            'cutoff': 10,\n",
    "            'limit': 1e-10,\n",
    "            'E_fermi': 52.1539 ,\n",
    "            'E_max': 57.1913,\n",
    "            'ionization_energies': [10., 15., 21.5]\n",
    "    }"
   ]
  },
  {
   "cell_type": "code",
   "execution_count": null,
   "id": "5d085e2e-c18b-49f5-a718-bf1200974a66",
   "metadata": {
    "tags": []
   },
   "outputs": [],
   "source": [
    "x_1D= np.linspace(0,cell[0,0],total_V.shape[0])\n",
    "dx=x_1D[1]-x_1D[0]\n",
    "y_1D= np.linspace(0,cell[1,1],total_V.shape[1])\n",
    "dy=y_1D[1]-y_1D[0]\n",
    "z_1D= np.linspace(0,cell[2,2],total_V.shape[2])\n",
    "dz=z_1D[1]-z_1D[0]\n",
    "ispin=0\n",
    "i=380\n",
    "ik=0\n",
    "z_max=40\n",
    "Nz_max= int(z_max/dz)\n",
    "waves=nm.extra_waves(total_V,dz,cell,Nz_max,dft,inputDict=Simulator)\n",
    "psi_real,psi_extra,gk_1,gk_2 = waves.get_psi(i,ispin,ik)"
   ]
  },
  {
   "cell_type": "code",
   "execution_count": null,
   "id": "283900ec-9e11-4a6e-be0a-57a4eef73995",
   "metadata": {
    "tags": []
   },
   "outputs": [],
   "source": [
    "plt.plot(z_1D[Simulator['izend']:Nz_max-5],np.log10(np.abs(psi_extra[28,26,Simulator['izend']:Nz_max-5])))\n"
   ]
  },
  {
   "cell_type": "code",
   "execution_count": null,
   "id": "2cf0ff3b-543d-4f69-8a3e-87fe5b82d8ba",
   "metadata": {
    "tags": []
   },
   "outputs": [],
   "source": [
    "fim=nm.FIM_simulations(dft,psi_extra,total_V,inputDict=Simulator)\n",
    "fim.sum_all_states(ik)"
   ]
  },
  {
   "cell_type": "code",
   "execution_count": null,
   "id": "2a6263de-a8c9-4f37-a9f0-e0defccc5520",
   "metadata": {},
   "outputs": [],
   "source": [
    "all_totals = dict ()\n",
    "Nx,Ny=60,56\n",
    "for ik in range(25):\n",
    "        with h5py.File(f'/cmmc/u/sbhatt/pyiron/my_module/Platinum_Iridium/PtIr{ik}_hdf5/PtIr{ik}/partial_dos0.h5', 'r') as handle:\n",
    "            for varname in handle.keys ():\n",
    "                if 'IE=' in varname:\n",
    "                    IE = float(str(varname).replace('IE=',''))\n",
    "                    if IE not in all_totals.keys ():\n",
    "                        all_totals[IE] = np.zeros((Nx,Ny), dtype=np.float64)\n",
    "                    all_totals[IE] += np.asarray(handle[varname])"
   ]
  },
  {
   "cell_type": "code",
   "execution_count": null,
   "id": "b91f75c9-b520-4948-aa7c-377e4e8363bb",
   "metadata": {
    "tags": []
   },
   "outputs": [],
   "source": [
    "xp =np.linspace(0,40,200)\n",
    "yp= np.linspace(0,40,200)\n",
    "FIM_image_ex_all=np.zeros([xp.shape[0],yp.shape[0]],dtype=np.complex128)\n",
    "\n",
    "# interpolation of DFT_total3\n",
    "prho_rec_ex_all= np.fft.ifft2(all_totals[21.5])\n",
    "for ix in range(xp.shape[0]):\n",
    "    for iy in range(yp.shape[0]):\n",
    "        x=xp[ix]\n",
    "        y=yp[iy]\n",
    "        phase_1=np.exp(-1j*(gk_1[:,0]*x+gk_1[:,1]*y))\n",
    "        phase_2= np.exp(-1j*(gk_2[:,0]*x+gk_2[:,1]*y))\n",
    "        phase=np.outer(phase_1,phase_2)\n",
    "        FIM_image_ex_all[ix,iy] =np.sum(prho_rec_ex_all.flatten()*phase.flatten())"
   ]
  },
  {
   "cell_type": "code",
   "execution_count": null,
   "id": "d766547d-c9e3-4ddf-a602-ce14327fe985",
   "metadata": {
    "tags": []
   },
   "outputs": [],
   "source": [
    "toplayer=[(x /1.89,y/ 1.89) for x,y,z in struct.positions  if z>14]\n"
   ]
  },
  {
   "cell_type": "code",
   "execution_count": null,
   "id": "2aee52c6-e3ac-4aba-ac7d-5c832314971a",
   "metadata": {
    "tags": []
   },
   "outputs": [],
   "source": [
    "BOHR_TO_Angstrom= scipy.constants.physical_constants[\"Bohr radius\"][0]*1e+10\n"
   ]
  },
  {
   "cell_type": "code",
   "execution_count": null,
   "id": "547bfd10-7472-489a-b558-3eeea2b6e087",
   "metadata": {
    "tags": []
   },
   "outputs": [],
   "source": [
    "vmax=np.max(FIM_image_ex_all.real)\n",
    "print(vmax)\n",
    "vmax_lev=np.power(10., np.trunc(np.log10(vmax))-1)\n",
    "print(vmax_lev)\n",
    "vmax_lev=(np.trunc(vmax / vmax_lev * 10.)+1)*0.1 * vmax_lev\n",
    "print(vmax_lev)\n",
    "plt.figure(figsize=[6.5,4])\n",
    "plt.contourf(xp/1.89,yp/1.89,FIM_image_ex_all.real.T,vmin=0,vmax=vmax_lev,levels=np.linspace(0,vmax_lev,41))\n",
    "plt.rcParams['font.size'] = '16'\n",
    "plt.rcParams['font.family'] ='serif'\n",
    "plt.xlabel('x ($\\AA$)')\n",
    "#plt.xticks([0,5,10,15,20,25])\n",
    "plt.ylabel('y ($\\AA$)')\n",
    "plt.colorbar()\n",
    "#toplayer=[(x /1.89,y/ 1.89) for x,y,z in struct.positions  if z>14]\n",
    "#for (x,y) in toplayer[0:2]:\n",
    "  #  plt.text(x/0.529,y/0.529, 'Pt', style='normal',fontsize=14,color='white')\n",
    "#plt.text(toplayer[2][0]*1.89,toplayer[2][1]*1.89, 'Ir', style='normal',fontsize=14,color='black')\n",
    "#plt.figtext(0.12, 0.8, 'EXTRA (I=21.5 eV)',color='white')\n",
    "\n",
    "plt.savefig(\"PtIr_EXTRA.png\",bbox_inches=\"tight\", dpi=400)"
   ]
  },
  {
   "cell_type": "code",
   "execution_count": null,
   "id": "dc64bc43-01da-4ad8-ae4f-16a123491d33",
   "metadata": {
    "tags": []
   },
   "outputs": [],
   "source": [
    "from pyiron_atomistics.sphinx.structure import read_atoms\n",
    "struct=read_atoms(\"/u/skatnagallu/pyiron/projects/HEA_FIM/PtIrAu_FIM_contrast/Pt1Ir_210_relax_wf_4_0_VA_hdf5/Pt1Ir_210_relax_wf_4_0_VA/relaxedStr.sx\") "
   ]
  },
  {
   "cell_type": "code",
   "execution_count": null,
   "id": "f9d507b7-9237-4dd7-915a-6460092909ea",
   "metadata": {
    "tags": []
   },
   "outputs": [],
   "source": [
    "struct"
   ]
  },
  {
   "cell_type": "code",
   "execution_count": null,
   "id": "b03d5588-290a-4a44-9da7-f46b0230b5d1",
   "metadata": {
    "tags": []
   },
   "outputs": [],
   "source": [
    "Nz=220\n",
    "relcoords=np.matmul(np.linalg.inv(np.asarray(struct.cell)).T,struct.positions[-1])\n",
    "print (struct.cell[0] * relcoords[0] + struct.cell[1]*relcoords[1] +struct.cell[2]*relcoords[2], relcoords * [Nx,Ny,Nz])"
   ]
  },
  {
   "cell_type": "code",
   "execution_count": null,
   "id": "aea6c9f4-afd6-4175-880c-1d0894a0d2db",
   "metadata": {},
   "outputs": [],
   "source": [
    "struct.plot3d()"
   ]
  },
  {
   "cell_type": "code",
   "execution_count": null,
   "id": "f18a32b1-f3d2-4992-8eaa-b747179785ea",
   "metadata": {},
   "outputs": [],
   "source": []
  }
 ],
 "metadata": {
  "kernelspec": {
   "display_name": "Python 3 (ipykernel)",
   "language": "python",
   "name": "python3"
  },
  "language_info": {
   "codemirror_mode": {
    "name": "ipython",
    "version": 3
   },
   "file_extension": ".py",
   "mimetype": "text/x-python",
   "name": "python",
   "nbconvert_exporter": "python",
   "pygments_lexer": "ipython3",
   "version": "3.8.15"
  }
 },
 "nbformat": 4,
 "nbformat_minor": 5
}
