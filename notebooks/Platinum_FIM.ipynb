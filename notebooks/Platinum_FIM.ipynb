{
 "cells": [
  {
   "cell_type": "markdown",
   "id": "53b573e1-e8b9-48b3-9ddd-8f177013ab4f",
   "metadata": {},
   "source": [
    "## FIM simulation of Platinum"
   ]
  },
  {
   "cell_type": "code",
   "execution_count": 1,
   "id": "3ea01c70-7ab5-48f8-867a-958e44916ac9",
   "metadata": {
    "tags": []
   },
   "outputs": [
    {
     "data": {
      "text/html": [
       "<pre style=\"white-space:pre;overflow-x:auto;line-height:normal;font-family:Menlo,'DejaVu Sans Mono',consolas,'Courier New',monospace\"></pre>\n"
      ],
      "text/plain": []
     },
     "metadata": {},
     "output_type": "display_data"
    },
    {
     "data": {
      "text/html": [
       "<pre style=\"white-space:pre;overflow-x:auto;line-height:normal;font-family:Menlo,'DejaVu Sans Mono',consolas,'Courier New',monospace\"></pre>\n"
      ],
      "text/plain": []
     },
     "metadata": {},
     "output_type": "display_data"
    },
    {
     "data": {
      "application/vnd.jupyter.widget-view+json": {
       "model_id": "ae75db4489e144bdbf7d29f49fb2d82e",
       "version_major": 2,
       "version_minor": 0
      },
      "text/plain": []
     },
     "metadata": {},
     "output_type": "display_data"
    }
   ],
   "source": [
    "import netCDF4\n",
    "from pyiron import Project\n",
    "import numpy as np\n",
    "import h5py\n",
    "import scipy\n",
    "%matplotlib inline\n",
    "import matplotlib.pyplot as plt\n",
    "from pyiron_base import load\n"
   ]
  },
  {
   "cell_type": "code",
   "execution_count": 2,
   "id": "1d2a191a-70d2-4ed8-b0f9-a4ae5ecf5cd3",
   "metadata": {},
   "outputs": [
    {
     "name": "stderr",
     "output_type": "stream",
     "text": [
      "/cmmc/u/sbhatt/pyiron/my_module/EXTRA_git/Extracode/main.py:309: NumbaDeprecationWarning: \u001b[1mThe 'nopython' keyword argument was not supplied to the 'numba.jit' decorator. The implicit default value for this argument is currently False, but it will be changed to True in Numba 0.59.0. See https://numba.readthedocs.io/en/stable/reference/deprecation.html#deprecation-of-object-mode-fall-back-behaviour-when-using-jit for details.\u001b[0m\n",
      "  def _fillin(res, psire, psiim, fft_idx):\n"
     ]
    }
   ],
   "source": [
    "import sys\n",
    "sys.path.append ('/cmmc/u/sbhatt/pyiron/my_module/EXTRA_git')\n",
    "import Extracode.main as nm\n"
   ]
  },
  {
   "cell_type": "code",
   "execution_count": 3,
   "id": "71bc4bfa-8592-45d6-961d-b29a81c6ea91",
   "metadata": {
    "tags": []
   },
   "outputs": [],
   "source": [
    "pr = Project ('Platinum')"
   ]
  },
  {
   "cell_type": "markdown",
   "id": "38a2f20e-d648-457f-9e3e-61f90671f2a9",
   "metadata": {},
   "source": [
    "## First we get DFT wavefunctions and Potential from another directory\n",
    "sphinx waves are not added here due to the significant size in gigabytes.\n",
    "total_V is total potential i.e sum of elctrostatic and exchange correlation potential; \n",
    "V1 is average potential "
   ]
  },
  {
   "cell_type": "code",
   "execution_count": 4,
   "id": "bd16eb53-5f78-4f3a-9e09-80eb9547239c",
   "metadata": {
    "tags": []
   },
   "outputs": [],
   "source": [
    "working_directory=\"/u/skatnagallu/pyiron/projects/HEA_FIM/PtIrAu_FIM_contrast/Pt_210_relax_wf_doubley_4_0_VA_hdf5/Pt_210_relax_wf_doubley_4_0_VA\"\n",
    "\n",
    "dft= nm.sx_waves_reader(working_directory,working_directory+'/waves.sxb')\n",
    "potentials=nm.potential(working_directory)\n",
    "total_V,V1,cell= potentials.potential_cell()\n"
   ]
  },
  {
   "cell_type": "code",
   "execution_count": 5,
   "id": "0415f332-c126-4b38-8705-50ed56ab6344",
   "metadata": {
    "tags": []
   },
   "outputs": [
    {
     "data": {
      "text/plain": [
       "(60, 56, 220)"
      ]
     },
     "execution_count": 5,
     "metadata": {},
     "output_type": "execute_result"
    }
   ],
   "source": [
    "total_V.shape"
   ]
  },
  {
   "cell_type": "code",
   "execution_count": 6,
   "id": "7ae30d22-3b4e-48e4-a88b-dd430fcbc62b",
   "metadata": {},
   "outputs": [],
   "source": [
    " Simulator = {\n",
    "            'working_directory': '/u/skatnagallu/pyiron/projects/HEA_FIM/PtIrAu_FIM_contrast/Pt_210_relax_wf_doubley_4_0_VA_hdf5/Pt_210_relax_wf_doubley_4_0_VA',\n",
    "            'ik': 0,\n",
    "            'z_max': 40,\n",
    "            'izstart_min': 115,\n",
    "            'izend': 100,\n",
    "            'cutoff': 10,\n",
    "            'limit': 1e-10,\n",
    "            'E_fermi': 52.1157 ,\n",
    "            'E_max': 57.0034,\n",
    "            'ionization_energies': [10., 15., 21.5]\n",
    "    }"
   ]
  },
  {
   "cell_type": "code",
   "execution_count": 8,
   "id": "5d085e2e-c18b-49f5-a718-bf1200974a66",
   "metadata": {
    "tags": []
   },
   "outputs": [],
   "source": [
    "x_1D= np.linspace(0,cell[0,0],total_V.shape[0])\n",
    "dx=x_1D[1]-x_1D[0]\n",
    "y_1D= np.linspace(0,cell[1,1],total_V.shape[1])\n",
    "dy=y_1D[1]-y_1D[0]\n",
    "z_1D= np.linspace(0,cell[2,2],total_V.shape[2])\n",
    "dz=z_1D[1]-z_1D[0]\n",
    "ispin=0\n",
    "i=380\n",
    "ik=0\n",
    "z_max=40\n",
    "Nz_max= int(z_max/dz)\n",
    "waves=nm.extra_waves(total_V,dz,cell,Nz_max,dft,inputDict=Simulator)\n",
    "psi_real,psi_extra,gk_1,gk_2 = waves.get_psi(i,ispin,ik)"
   ]
  },
  {
   "cell_type": "markdown",
   "id": "f9d6b3cc-5263-4cd3-b6a2-713c77a3b95f",
   "metadata": {},
   "source": [
    "## plot EXTRA  wavefunctions along z"
   ]
  },
  {
   "cell_type": "code",
   "execution_count": 11,
   "id": "041dce0a-16a4-411e-bb06-587a4e082e5f",
   "metadata": {
    "tags": []
   },
   "outputs": [
    {
     "data": {
      "text/plain": [
       "<matplotlib.legend.Legend at 0x154b49966d60>"
      ]
     },
     "execution_count": 11,
     "metadata": {},
     "output_type": "execute_result"
    },
    {
     "data": {
      "image/png": "[encoded data removed]",
      "text/plain": [
       "<Figure size 640x480 with 1 Axes>"
      ]
     },
     "metadata": {},
     "output_type": "display_data"
    }
   ],
   "source": [
    "plt.plot (z_1D[Simulator[\"izend\"]:Nz_max-5],np.log10(np.abs(psi_extra[28,26,Simulator[\"izend\"]:Nz_max-5])),label='EXTRA',linewidth=2.0)\n",
    "plt.plot (z_1D[Simulator[\"izend\"]:Nz_max-5],np.log10(np.abs(psi_real[28,26,Simulator[\"izend\"]:Nz_max-5])),'--',color='orange',label='DFT',linewidth=2.0)\n",
    "\n",
    "plt.xlabel('z',fontsize=12)\n",
    "plt.ylabel('$\\log_{10} |\\psi|$',fontsize=12)\n",
    "plt.xticks(fontsize=12)\n",
    "plt.yticks(fontsize=12)\n",
    "\n",
    "plt.rcParams['font.size'] = '16'\n",
    "plt.rcParams['font.family'] ='serif'\n",
    "#plt.xlim((22,34))\n",
    "plt.tight_layout()\n",
    "\n",
    "plt.legend(fontsize=13)\n",
    "\n"
   ]
  },
  {
   "cell_type": "code",
   "execution_count": 9,
   "id": "283900ec-9e11-4a6e-be0a-57a4eef73995",
   "metadata": {
    "tags": []
   },
   "outputs": [
    {
     "data": {
      "text/plain": [
       "[<matplotlib.lines.Line2D at 0x154b49f6f880>]"
      ]
     },
     "execution_count": 9,
     "metadata": {},
     "output_type": "execute_result"
    },
    {
     "data": {
      "image/png": "[encoded data removed]",
      "text/plain": [
       "<Figure size 640x480 with 1 Axes>"
      ]
     },
     "metadata": {},
     "output_type": "display_data"
    }
   ],
   "source": [
    "plt.plot(z_1D[Simulator['izend']:Nz_max-5],np.log10(np.abs(psi_extra[28,26,Simulator['izend']:Nz_max-5])))\n"
   ]
  },
  {
   "cell_type": "code",
   "execution_count": null,
   "id": "2cf0ff3b-543d-4f69-8a3e-87fe5b82d8ba",
   "metadata": {
    "tags": []
   },
   "outputs": [],
   "source": [
    "fim=nm.FIM_simulations(dft,psi_extra,total_V,inputDict=Simulator)\n",
    "fim.sum_all_states(ik)"
   ]
  },
  {
   "cell_type": "code",
   "execution_count": null,
   "id": "40c3d118-1beb-465d-bb41-59f318a0e834",
   "metadata": {
    "tags": []
   },
   "outputs": [],
   "source": [
    "all_totals = dict ()\n",
    "Nx,Ny=60,56\n",
    "for ik in range(25):\n",
    "        with h5py.File(f'/cmmc/u/sbhatt/pyiron/my_module/Platinum/purePt{ik}_hdf5/purePt{ik}/partial_dos0.h5', 'r') as handle:\n",
    "            for varname in handle.keys ():\n",
    "                if 'IE=' in varname:\n",
    "                    IE = float(str(varname).replace('IE=',''))\n",
    "                    if IE not in all_totals.keys ():\n",
    "                        all_totals[IE] = np.zeros((Nx,Ny), dtype=np.float64)\n",
    "                    all_totals[IE] += np.asarray(handle[varname])"
   ]
  },
  {
   "cell_type": "code",
   "execution_count": null,
   "id": "04e6f5f1-ffa2-4445-ba65-1ddce017e8ae",
   "metadata": {
    "tags": []
   },
   "outputs": [],
   "source": [
    "xp =np.linspace(0,27,270)\n",
    "yp= np.linspace(0,18,180)\n",
    "FIM_image_ex_all=np.zeros([xp.shape[0],yp.shape[0]],dtype=np.complex128)\n",
    "\n",
    "# interpolation of DFT_total3\n",
    "prho_rec_ex_all= np.fft.ifft2(all_totals[21.5])\n",
    "for ix in range(xp.shape[0]):\n",
    "    for iy in range(yp.shape[0]):\n",
    "        x=xp[ix]\n",
    "        y=yp[iy]\n",
    "        phase_1=np.exp(-1j*(gk_1[:,0]*x+gk_1[:,1]*y))\n",
    "        phase_2= np.exp(-1j*(gk_2[:,0]*x+gk_2[:,1]*y))\n",
    "        phase=np.outer(phase_1,phase_2)\n",
    "        FIM_image_ex_all[ix,iy] =np.sum(prho_rec_ex_all.flatten()*phase.flatten())"
   ]
  },
  {
   "cell_type": "code",
   "execution_count": null,
   "id": "9ec02fe3-1f30-4d0e-bd3a-b5050173794d",
   "metadata": {
    "tags": []
   },
   "outputs": [],
   "source": [
    "vmax=np.max(FIM_image_ex_all.real)\n",
    "print(vmax)\n",
    "vmax_lev=np.power(10., np.trunc(np.log10(vmax))-1)\n",
    "print(vmax_lev)\n",
    "vmax_lev=(np.trunc(vmax / vmax_lev * 10.)+1)*0.1 * vmax_lev\n",
    "print(vmax_lev)\n",
    "plt.figure(figsize=[6.5,4])\n",
    "plt.contourf(xp/1.89,yp/1.89,FIM_image_ex_all.real.T,vmin=0,vmax=vmax_lev,levels=np.linspace(0,vmax_lev,41))\n",
    "plt.rcParams['font.size'] = '16'\n",
    "plt.rcParams['font.family'] ='serif'\n",
    "plt.xlabel('x ($\\AA$)')\n",
    "#plt.xticks([0,5,10,15,20,25])\n",
    "plt.ylabel('y ($\\AA$)')\n",
    "plt.colorbar()\n",
    "#toplayer=[(x / BOHR_TO_Angstrom,y/ BOHR_TO_Angstrom) for x,y,z in struct.positions  if z>10]\n",
    "#for (x,y) in toplayer[0:8]:\n",
    " #   plt.text(x,y, 'Ni', style='normal',fontsize=14,color='white')\n",
    "#plt.text(toplayer[8][0],toplayer[8][1], 'Re', style='normal',fontsize=14,color='black')\n",
    "#plt.figtext(0.12, 0.8, 'EXTRA (I=21.5 eV)',color='white')\n",
    "plt.savefig(\"purept_EXTRA.png\",bbox_inches=\"tight\", dpi=400)"
   ]
  },
  {
   "cell_type": "code",
   "execution_count": null,
   "id": "2a6263de-a8c9-4f37-a9f0-e0defccc5520",
   "metadata": {},
   "outputs": [],
   "source": []
  }
 ],
 "metadata": {
  "kernelspec": {
   "display_name": "Python 3 (ipykernel)",
   "language": "python",
   "name": "python3"
  },
  "language_info": {
   "codemirror_mode": {
    "name": "ipython",
    "version": 3
   },
   "file_extension": ".py",
   "mimetype": "text/x-python",
   "name": "python",
   "nbconvert_exporter": "python",
   "pygments_lexer": "ipython3",
   "version": "3.8.15"
  }
 },
 "nbformat": 4,
 "nbformat_minor": 5
}
